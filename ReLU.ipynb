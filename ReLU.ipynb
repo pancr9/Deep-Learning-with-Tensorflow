{
 "cells": [
  {
   "cell_type": "markdown",
   "metadata": {},
   "source": [
    "# Single Hidden Layer ReLU network.\n",
    "\n",
    "This is an implementation of Single Hidden Layer in Tensor Flow on Iris Dataset.\n",
    "\n",
    "* Author: Rekhansh Panchal\n",
    "\n",
    "* Email: rpanchal@uncc.edu"
   ]
  },
  {
   "cell_type": "code",
   "execution_count": 1,
   "metadata": {
    "collapsed": true
   },
   "outputs": [],
   "source": [
    "# Import files/packages.\n",
    "import numpy as np\n",
    "from sklearn.datasets import load_iris\n",
    "import tensorflow as tf\n",
    "from sklearn.metrics import accuracy_score\n",
    "from sklearn.model_selection import train_test_split\n",
    "\n",
    "\n",
    "# Assumption.\n",
    "SEED_VALUE = 42\n",
    "n_hidden = 13\n",
    "n_outputs = 3\n",
    "n_inputs = 4\n",
    "n_epochs = 55\n",
    "batch_size = 20\n",
    "learning_rate = 0.01"
   ]
  },
  {
   "cell_type": "code",
   "execution_count": 2,
   "metadata": {
    "collapsed": true
   },
   "outputs": [],
   "source": [
    "# To make notebook's output stable across runs\n",
    "def reset_graph():\n",
    "    tf.reset_default_graph()\n",
    "    tf.set_random_seed(SEED_VALUE)\n",
    "    np.random.seed(SEED_VALUE)"
   ]
  },
  {
   "cell_type": "code",
   "execution_count": 3,
   "metadata": {},
   "outputs": [],
   "source": [
    "reset_graph()\n",
    "\n",
    "X = tf.placeholder(tf.float32, shape=(None, n_inputs), name=\"X\")\n",
    "y = tf.placeholder(tf.int64, shape=(None), name=\"y\")\n",
    "\n",
    "# Get input\n",
    "iris = load_iris()\n",
    "r, c = iris.data.shape\n",
    "\n",
    "# Neuron Layer.\n",
    "def neuron_layer(X, n_neurons, name):\n",
    "    with tf.name_scope(name):\n",
    "        n_inputs = int(X.get_shape()[1])\n",
    "        std_dev = 2 / np.sqrt(n_inputs)\n",
    "        init = tf.truncated_normal((n_inputs, n_neurons), stddev=std_dev)\n",
    "        W = tf.Variable(init, name=\"weights\")\n",
    "        b = tf.Variable(tf.zeros([n_neurons]), name=\"biases\")\n",
    "        z = tf.matmul(X, W) + b\n",
    "        \n",
    "        return tf.nn.relu(z)\n",
    "\n",
    "with tf.name_scope(\"ann\"):\n",
    "    hidden1 = neuron_layer(X, n_hidden, \"hidden1\")\n",
    "    logits = neuron_layer(hidden1, n_outputs, \"outputs\")\n",
    "    \n",
    "with tf.name_scope(\"loss\"):\n",
    "    xentropy = tf.nn.sparse_softmax_cross_entropy_with_logits(labels=y,logits=logits)\n",
    "    loss = tf.reduce_mean(xentropy, name=\"loss\")    \n",
    "\n",
    "with tf.name_scope(\"train\"):\n",
    "    optimizer = tf.train.GradientDescentOptimizer(learning_rate)\n",
    "    training_op = optimizer.minimize(loss)\n",
    "    \n",
    "with tf.name_scope(\"eval\"):\n",
    "    correct = tf.nn.in_top_k(logits, y, 1)\n",
    "    accuracy = tf.reduce_mean(tf.cast(correct, tf.float32))    "
   ]
  },
  {
   "cell_type": "code",
   "execution_count": 4,
   "metadata": {},
   "outputs": [],
   "source": [
    "X_train, X_test, y_train, y_test = train_test_split(iris.data, iris.target, test_size=0.2, random_state=SEED_VALUE)\n",
    "\n",
    "init = tf.global_variables_initializer()"
   ]
  },
  {
   "cell_type": "code",
   "execution_count": 5,
   "metadata": {},
   "outputs": [
    {
     "name": "stdout",
     "output_type": "stream",
     "text": [
      "0 Train accuracy: 0.47368422 Test accuracy: 0.36666667\n",
      "1 Train accuracy: 0.47368422 Test accuracy: 0.36666667\n",
      "2 Train accuracy: 0.47368422 Test accuracy: 0.36666667\n",
      "3 Train accuracy: 0.47368422 Test accuracy: 0.36666667\n",
      "4 Train accuracy: 0.5263158 Test accuracy: 0.43333334\n",
      "5 Train accuracy: 0.68421054 Test accuracy: 0.46666667\n",
      "6 Train accuracy: 0.68421054 Test accuracy: 0.6\n",
      "7 Train accuracy: 0.68421054 Test accuracy: 0.6666667\n",
      "8 Train accuracy: 0.68421054 Test accuracy: 0.6666667\n",
      "9 Train accuracy: 0.68421054 Test accuracy: 0.6666667\n",
      "10 Train accuracy: 0.68421054 Test accuracy: 0.7\n",
      "11 Train accuracy: 0.68421054 Test accuracy: 0.7\n",
      "12 Train accuracy: 0.68421054 Test accuracy: 0.7\n",
      "13 Train accuracy: 0.68421054 Test accuracy: 0.7\n",
      "14 Train accuracy: 0.68421054 Test accuracy: 0.7\n",
      "15 Train accuracy: 0.68421054 Test accuracy: 0.7\n",
      "16 Train accuracy: 0.68421054 Test accuracy: 0.7\n",
      "17 Train accuracy: 0.68421054 Test accuracy: 0.7\n",
      "18 Train accuracy: 0.68421054 Test accuracy: 0.7\n",
      "19 Train accuracy: 0.68421054 Test accuracy: 0.7\n",
      "20 Train accuracy: 0.68421054 Test accuracy: 0.7\n",
      "21 Train accuracy: 0.68421054 Test accuracy: 0.7\n",
      "22 Train accuracy: 0.68421054 Test accuracy: 0.7\n",
      "23 Train accuracy: 0.68421054 Test accuracy: 0.7\n",
      "24 Train accuracy: 0.68421054 Test accuracy: 0.7\n",
      "25 Train accuracy: 0.68421054 Test accuracy: 0.7\n",
      "26 Train accuracy: 0.68421054 Test accuracy: 0.7\n",
      "27 Train accuracy: 0.68421054 Test accuracy: 0.7\n",
      "28 Train accuracy: 0.68421054 Test accuracy: 0.7\n",
      "29 Train accuracy: 0.68421054 Test accuracy: 0.7\n",
      "30 Train accuracy: 0.7894737 Test accuracy: 0.76666665\n",
      "31 Train accuracy: 0.7368421 Test accuracy: 0.73333335\n",
      "32 Train accuracy: 0.7894737 Test accuracy: 0.8\n",
      "33 Train accuracy: 0.7894737 Test accuracy: 0.8\n",
      "34 Train accuracy: 0.8947368 Test accuracy: 0.8\n",
      "35 Train accuracy: 0.8947368 Test accuracy: 0.8\n",
      "36 Train accuracy: 0.8947368 Test accuracy: 0.8\n",
      "37 Train accuracy: 0.8947368 Test accuracy: 0.8\n",
      "38 Train accuracy: 0.8947368 Test accuracy: 0.8333333\n",
      "39 Train accuracy: 0.8947368 Test accuracy: 0.8333333\n",
      "40 Train accuracy: 0.8947368 Test accuracy: 0.8666667\n",
      "41 Train accuracy: 0.8947368 Test accuracy: 0.8666667\n",
      "42 Train accuracy: 0.94736844 Test accuracy: 0.8666667\n",
      "43 Train accuracy: 0.94736844 Test accuracy: 0.8666667\n",
      "44 Train accuracy: 0.94736844 Test accuracy: 0.8666667\n",
      "45 Train accuracy: 0.94736844 Test accuracy: 0.8666667\n",
      "46 Train accuracy: 0.94736844 Test accuracy: 0.8666667\n",
      "47 Train accuracy: 0.94736844 Test accuracy: 0.9\n",
      "48 Train accuracy: 0.94736844 Test accuracy: 0.9\n",
      "49 Train accuracy: 0.94736844 Test accuracy: 0.9\n",
      "50 Train accuracy: 0.94736844 Test accuracy: 0.9\n",
      "51 Train accuracy: 0.94736844 Test accuracy: 0.93333334\n",
      "52 Train accuracy: 0.94736844 Test accuracy: 0.96666664\n",
      "53 Train accuracy: 0.94736844 Test accuracy: 0.96666664\n",
      "54 Train accuracy: 0.94736844 Test accuracy: 0.96666664\n"
     ]
    }
   ],
   "source": [
    "with tf.Session() as sess:\n",
    "    init.run()\n",
    "    for epoch in range(n_epochs):\n",
    "        c = 0\n",
    "        for iteration in range(X_train.shape[0] // batch_size):\n",
    "            \n",
    "            start = c * batch_size\n",
    "            c = c + 1\n",
    "            end = c * batch_size - 1\n",
    "            X_batch = X_train[start:end]\n",
    "            y_batch = y_train[start:end]\n",
    "            \n",
    "            sess.run(training_op, feed_dict={X: X_batch, y: y_batch})\n",
    "        acc_train = accuracy.eval(feed_dict={X: X_batch, y: y_batch})\n",
    "        acc_test = accuracy.eval(feed_dict={X: X_test, y: y_test})\n",
    "        print(epoch, \"Train accuracy:\", acc_train, \"Test accuracy:\", acc_test)"
   ]
  },
  {
   "cell_type": "markdown",
   "metadata": {},
   "source": [
    "As per observations made, number of neurons plays an important role in the accuracy of the model.\n",
    "The more the number of neurons, the better is the training.\n"
   ]
  }
 ],
 "metadata": {
  "kernelspec": {
   "display_name": "Python 3",
   "language": "python",
   "name": "python3"
  },
  "language_info": {
   "codemirror_mode": {
    "name": "ipython",
    "version": 3
   },
   "file_extension": ".py",
   "mimetype": "text/x-python",
   "name": "python",
   "nbconvert_exporter": "python",
   "pygments_lexer": "ipython3",
   "version": "3.5.4"
  }
 },
 "nbformat": 4,
 "nbformat_minor": 2
}
